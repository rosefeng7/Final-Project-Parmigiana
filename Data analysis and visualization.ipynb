{
  "nbformat": 4,
  "nbformat_minor": 0,
  "metadata": {
    "colab": {
      "name": "QTM350 Final Proj.ipynb",
      "provenance": []
    },
    "kernelspec": {
      "name": "python3",
      "display_name": "Python 3"
    }
  },
  "cells": [
    {
      "cell_type": "code",
      "metadata": {
        "id": "nSn5AJhW-6e8"
      },
      "source": [
        "%matplotlib inline"
      ],
      "execution_count": null,
      "outputs": []
    },
    {
      "cell_type": "code",
      "metadata": {
        "id": "fumCLuwVtVEG"
      },
      "source": [
        "import pandas as pd\n",
        "import numpy as np\n",
        "import matplotlib.pylab as plt\n",
        "from statsmodels.formula.api import ols\n",
        "import seaborn as sns\n",
        "import statsmodels.api as sm"
      ],
      "execution_count": null,
      "outputs": []
    },
    {
      "cell_type": "code",
      "metadata": {
        "colab": {
          "base_uri": "https://localhost:8080/"
        },
        "id": "RHXM-rFQy7mt",
        "outputId": "870857a5-c9f9-437d-814c-ba397558d31f"
      },
      "source": [
        "# Import data that have the dummy variables. This dataframe is used in regression analysis\n",
        "df1=pd.read_csv(r'extracted_data_parmigiana 1.csv')\n",
        "# View dataframe\n",
        "print(df1)"
      ],
      "execution_count": null,
      "outputs": [
        {
          "output_type": "stream",
          "text": [
            "    Unnamed: 0  Black  White  Grey  Red  Blue  Similarity  Confidence\n",
            "0            0    1.0    0.0   0.0  0.0   0.0   99.995094   99.997391\n",
            "1            1    0.0    0.0   0.0  0.0   1.0   99.998070   99.995354\n",
            "2            2    0.0    0.0   1.0  0.0   0.0   99.996719   99.996658\n",
            "3            3    0.0    0.0   0.0  1.0   0.0   99.996651   99.997841\n",
            "4            4    0.0    1.0   0.0  0.0   0.0   99.997421   99.995979\n",
            "5            0    1.0    0.0   0.0  0.0   0.0   99.984108   99.996689\n",
            "6            1    0.0    0.0   0.0  0.0   1.0   99.937988   99.999214\n",
            "7            2    0.0    0.0   1.0  0.0   0.0   99.972763   99.999008\n",
            "8            3    0.0    0.0   0.0  1.0   0.0   99.985275   99.998367\n",
            "9            4    0.0    1.0   0.0  0.0   0.0   99.984062   99.997139\n",
            "10           0    1.0    0.0   0.0  0.0   0.0   99.921310   99.996613\n",
            "11           1    0.0    0.0   0.0  0.0   1.0   99.957176   99.993935\n",
            "12           2    0.0    0.0   1.0  0.0   0.0   99.898773   99.996948\n",
            "13           3    0.0    0.0   0.0  1.0   0.0   99.847069   99.995018\n",
            "14           4    0.0    1.0   0.0  0.0   0.0   99.884506   99.992027\n",
            "15           0    1.0    0.0   0.0  0.0   0.0   99.977020   99.995331\n",
            "16           1    0.0    0.0   0.0  0.0   1.0   99.966377   99.997398\n",
            "17           2    0.0    0.0   1.0  0.0   0.0   99.991684   99.997536\n",
            "18           3    0.0    0.0   0.0  1.0   0.0   99.985085   99.997154\n",
            "19           4    0.0    1.0   0.0  0.0   0.0   99.890884   99.996445\n",
            "20           0    1.0    0.0   0.0  0.0   0.0   99.743408   99.999069\n",
            "21           1    0.0    0.0   0.0  0.0   1.0   99.876167   99.999062\n",
            "22           2    0.0    0.0   1.0  0.0   0.0   99.782242   99.990891\n",
            "23           3    0.0    0.0   0.0  1.0   0.0   99.917709   99.999062\n",
            "24           4    0.0    1.0   0.0  0.0   0.0   99.876099   99.987518\n"
          ],
          "name": "stdout"
        }
      ]
    },
    {
      "cell_type": "code",
      "metadata": {
        "id": "9FTP90zyvjLK",
        "colab": {
          "base_uri": "https://localhost:8080/"
        },
        "outputId": "8e33d410-23d3-45b7-bfff-aec1d24b103d"
      },
      "source": [
        "# Import data for data visualization\n",
        "df=pd.read_csv(r'extracted_data_parmigiana.csv')\n",
        "# View dataframe\n",
        "print(df)"
      ],
      "execution_count": null,
      "outputs": [
        {
          "output_type": "stream",
          "text": [
            "   Unnamed: 0          Name   Simi_Red  ...  Conf_Black  Simi_Grey  Conf_Grey\n",
            "0           0         Allen  99.996651  ...   99.997391  99.996719  99.996658\n",
            "1           0  Emilia's mom  99.985275  ...   99.996689  99.972763  99.999008\n",
            "2           0        Emilia  99.847069  ...   99.996613  99.898773  99.996948\n",
            "3           0          Rose  99.985085  ...   99.995331  99.991684  99.997536\n",
            "4           0         Yijun  99.917709  ...   99.999069  99.782242  99.990891\n",
            "\n",
            "[5 rows x 12 columns]\n"
          ],
          "name": "stdout"
        }
      ]
    },
    {
      "cell_type": "markdown",
      "metadata": {
        "id": "HUDPtClHGFT8"
      },
      "source": [
        "##**Regression Analysis**"
      ]
    },
    {
      "cell_type": "markdown",
      "metadata": {
        "id": "kTEKcmb7QNNF"
      },
      "source": [
        "Let X represent the independent variables, Y1 represent similarity scores, and Y2 represent confidence scores"
      ]
    },
    {
      "cell_type": "code",
      "metadata": {
        "id": "MgKdQAz_MFVU"
      },
      "source": [
        "X = df1[['Black','White','Grey','Blue','Red']]\n",
        "Y1 = df1['Similarity']\n",
        "Y2 = df1['Confidence']"
      ],
      "execution_count": null,
      "outputs": []
    },
    {
      "cell_type": "markdown",
      "metadata": {
        "id": "t-ZRNl5-9lbr"
      },
      "source": [
        "**Linear Regression of colors on similarity scores**"
      ]
    },
    {
      "cell_type": "code",
      "metadata": {
        "colab": {
          "base_uri": "https://localhost:8080/"
        },
        "id": "pNWuW-YK_EeD",
        "outputId": "3c73cd50-8703-47cd-9ef8-7399d33378c8"
      },
      "source": [
        "olsmod = sm.OLS(Y1, X)\n",
        "olsres = olsmod.fit()\n",
        "print(olsres.summary())"
      ],
      "execution_count": null,
      "outputs": [
        {
          "output_type": "stream",
          "text": [
            "                            OLS Regression Results                            \n",
            "==============================================================================\n",
            "Dep. Variable:             Similarity   R-squared:                       0.021\n",
            "Model:                            OLS   Adj. R-squared:                 -0.174\n",
            "Method:                 Least Squares   F-statistic:                    0.1098\n",
            "Date:                Thu, 19 Nov 2020   Prob (F-statistic):              0.978\n",
            "Time:                        00:51:49   Log-Likelihood:                 31.765\n",
            "No. Observations:                  25   AIC:                            -53.53\n",
            "Df Residuals:                      20   BIC:                            -47.44\n",
            "Df Model:                           4                                         \n",
            "Covariance Type:            nonrobust                                         \n",
            "==============================================================================\n",
            "                 coef    std err          t      P>|t|      [0.025      0.975]\n",
            "------------------------------------------------------------------------------\n",
            "Black         99.9242      0.034   2942.728      0.000      99.853      99.995\n",
            "White         99.9266      0.034   2942.799      0.000      99.856      99.997\n",
            "Grey          99.9284      0.034   2942.853      0.000      99.858      99.999\n",
            "Blue          99.9472      0.034   2943.405      0.000      99.876     100.018\n",
            "Red           99.9464      0.034   2943.381      0.000      99.876     100.017\n",
            "==============================================================================\n",
            "Omnibus:                        6.482   Durbin-Watson:                   0.818\n",
            "Prob(Omnibus):                  0.039   Jarque-Bera (JB):                4.908\n",
            "Skew:                          -1.068   Prob(JB):                       0.0860\n",
            "Kurtosis:                       3.388   Cond. No.                         1.00\n",
            "==============================================================================\n",
            "\n",
            "Warnings:\n",
            "[1] Standard Errors assume that the covariance matrix of the errors is correctly specified.\n"
          ],
          "name": "stdout"
        }
      ]
    },
    {
      "cell_type": "markdown",
      "metadata": {
        "id": "CBOybGtMejkn"
      },
      "source": [
        "Here we are using the OLS estimator to analyze the linear regression between colors and similarities. The R squared is 0.021, which means that colors have little effect on similarities. While comparing coefficient between colors, Blue has the highest coefficient which represent that it has the hugest effect on similarities. It seems like clothing color does not have a lot of effect on the rekognition detector. "
      ]
    },
    {
      "cell_type": "markdown",
      "metadata": {
        "id": "HTZNpza3VNKw"
      },
      "source": [
        "Because our small sample size and R-squared value, we ploted a series of histograms for different clothing colors and similarity scores:"
      ]
    },
    {
      "cell_type": "code",
      "metadata": {
        "colab": {
          "base_uri": "https://localhost:8080/",
          "height": 373
        },
        "id": "Un5RoUesAyMC",
        "outputId": "ece05c44-50de-42ba-ba8a-b77b1519f0d3"
      },
      "source": [
        "fig, axes = plt.subplots(1, 5, figsize=(20,4),dpi=100, sharex=True, sharey=True)\n",
        "\n",
        "df.hist('Simi_Black', bins=5, ax=axes[0],color='black')\n",
        "df.hist('Simi_White', bins=5, ax=axes[1],color='olive')\n",
        "df.hist('Simi_Grey', bins=5, ax=axes[2],color='grey')\n",
        "df.hist('Simi_Blue', bins=5, ax=axes[3],color='blue')\n",
        "df.hist('Simi_Red', bins=5, ax=axes[4],color='red')\n",
        "\n",
        "plt.suptitle('Histogram of Clothing Color and Similarity Score', y=1.05, size=14)\n",
        "fig.text(0.5, 0.01, 'Color', ha='center', va='center')\n",
        "fig.text(0.06, 0.5, 'Frequency', ha='center', va='center', rotation='vertical')\n"
      ],
      "execution_count": null,
      "outputs": [
        {
          "output_type": "execute_result",
          "data": {
            "text/plain": [
              "Text(0.06, 0.5, 'Frequency')"
            ]
          },
          "metadata": {
            "tags": []
          },
          "execution_count": 153
        },
        {
          "output_type": "display_data",
          "data": {
            "image/png": "[encoded data removed]",
            "text/plain": [
              "<Figure size 2000x400 with 5 Axes>"
            ]
          },
          "metadata": {
            "tags": [],
            "needs_background": "light"
          }
        }
      ]
    },
    {
      "cell_type": "markdown",
      "metadata": {
        "id": "ovORDhD7Vkw4"
      },
      "source": [
        "We can see that the distribution of our samples isn't normal, so this helps explain why our R-squared result is very small."
      ]
    },
    {
      "cell_type": "markdown",
      "metadata": {
        "id": "YqYb0nAz9uXq"
      },
      "source": [
        "**Regression of colors on confidence scores**"
      ]
    },
    {
      "cell_type": "code",
      "metadata": {
        "colab": {
          "base_uri": "https://localhost:8080/"
        },
        "id": "51b3-H9t9hhJ",
        "outputId": "3b643962-e7e7-4e22-af03-c3763fb79cf3"
      },
      "source": [
        "olsmod = sm.OLS(Y2, X)\n",
        "olsres = olsmod.fit()\n",
        "print(olsres.summary())"
      ],
      "execution_count": null,
      "outputs": [
        {
          "output_type": "stream",
          "text": [
            "                            OLS Regression Results                            \n",
            "==============================================================================\n",
            "Dep. Variable:             Confidence   R-squared:                       0.231\n",
            "Model:                            OLS   Adj. R-squared:                  0.077\n",
            "Method:                 Least Squares   F-statistic:                     1.500\n",
            "Date:                Thu, 19 Nov 2020   Prob (F-statistic):              0.240\n",
            "Time:                        02:27:35   Log-Likelihood:                 115.46\n",
            "No. Observations:                  25   AIC:                            -220.9\n",
            "Df Residuals:                      20   BIC:                            -214.8\n",
            "Df Model:                           4                                         \n",
            "Covariance Type:            nonrobust                                         \n",
            "==============================================================================\n",
            "                 coef    std err          t      P>|t|      [0.025      0.975]\n",
            "------------------------------------------------------------------------------\n",
            "Black         99.9970      0.001   8.37e+04      0.000      99.995     100.000\n",
            "White         99.9938      0.001   8.37e+04      0.000      99.991      99.996\n",
            "Grey          99.9962      0.001   8.37e+04      0.000      99.994      99.999\n",
            "Blue          99.9970      0.001   8.37e+04      0.000      99.995      99.999\n",
            "Red           99.9975      0.001   8.37e+04      0.000      99.995     100.000\n",
            "==============================================================================\n",
            "Omnibus:                        6.077   Durbin-Watson:                   1.835\n",
            "Prob(Omnibus):                  0.048   Jarque-Bera (JB):                4.348\n",
            "Skew:                          -0.990   Prob(JB):                        0.114\n",
            "Kurtosis:                       3.505   Cond. No.                         1.00\n",
            "==============================================================================\n",
            "\n",
            "Warnings:\n",
            "[1] Standard Errors assume that the covariance matrix of the errors is correctly specified.\n"
          ],
          "name": "stdout"
        }
      ]
    },
    {
      "cell_type": "markdown",
      "metadata": {
        "id": "4hQmw8tE-tkQ"
      },
      "source": [
        "R-squared is 0.271, which suggests that the relationship between colors and confidence scores this weak. "
      ]
    },
    {
      "cell_type": "markdown",
      "metadata": {
        "id": "I0XjUqSRV8yn"
      },
      "source": [
        "Because our small sample size and R-squared value, we ploted a series of histograms for different clothing colors and confidence scores:"
      ]
    },
    {
      "cell_type": "code",
      "metadata": {
        "colab": {
          "base_uri": "https://localhost:8080/",
          "height": 376
        },
        "id": "etP-bDfDUuq7",
        "outputId": "c408e5ce-5baa-40d4-9315-469dba478fb6"
      },
      "source": [
        "fig, axes = plt.subplots(1, 5, figsize=(20,4),dpi=100, sharex=True, sharey=True)\n",
        "df.hist('Conf_Black', bins=5, ax=axes[0],color='black')\n",
        "df.hist('Conf_White', bins=5, ax=axes[1],color='olive')\n",
        "df.hist('Conf_Grey', bins=5, ax=axes[2],color='grey')\n",
        "df.hist('Conf_Blue', bins=5, ax=axes[3],color='blue')\n",
        "df.hist('Conf_Red', bins=5, ax=axes[4],color='red')\n",
        "\n",
        "\n",
        "plt.suptitle('Histogram of Clothing Color and Confidence Score', y=1.05, size=14)\n",
        "fig.text(0.5, 0.01, 'Color', ha='center', va='center')\n",
        "fig.text(0.06, 0.5, 'Frequency', ha='center', va='center', rotation='vertical')"
      ],
      "execution_count": null,
      "outputs": [
        {
          "output_type": "execute_result",
          "data": {
            "text/plain": [
              "Text(0.06, 0.5, 'Frequency')"
            ]
          },
          "metadata": {
            "tags": []
          },
          "execution_count": 154
        },
        {
          "output_type": "display_data",
          "data": {
            "image/png": "[encoded data removed]",
            "text/plain": [
              "<Figure size 2000x400 with 5 Axes>"
            ]
          },
          "metadata": {
            "tags": [],
            "needs_background": "light"
          }
        }
      ]
    },
    {
      "cell_type": "markdown",
      "metadata": {
        "id": "E3QyqzxvWCMM"
      },
      "source": [
        "We can see that the distribution of our samples isn't normal as well in this case, so this helps explain why our R-squared result is very small."
      ]
    },
    {
      "cell_type": "markdown",
      "metadata": {
        "id": "vdEkqoTXz1xH"
      },
      "source": [
        "#**Data Visualization**"
      ]
    },
    {
      "cell_type": "markdown",
      "metadata": {
        "id": "DbfPCsvEJ7ki"
      },
      "source": [
        "##**Clothing Color vs. Similarity Score**"
      ]
    },
    {
      "cell_type": "markdown",
      "metadata": {
        "id": "KABvXoGX4Y3e"
      },
      "source": [
        "First, we need to create a list of similarity scores with different clothing colors:"
      ]
    },
    {
      "cell_type": "code",
      "metadata": {
        "id": "6HyQOUpu4YCB"
      },
      "source": [
        "data=list([df['Simi_Red'],df['Simi_Blue'],df['Simi_Black'],df['Simi_White'],df['Simi_Grey']])"
      ],
      "execution_count": null,
      "outputs": []
    },
    {
      "cell_type": "markdown",
      "metadata": {
        "id": "EkaT0HLrE_NR"
      },
      "source": [
        "Then, we set the figure size, create axes instance, and plot five box plots in one graph."
      ]
    },
    {
      "cell_type": "code",
      "metadata": {
        "id": "gc9EQEHuAqeZ",
        "colab": {
          "base_uri": "https://localhost:8080/",
          "height": 523
        },
        "outputId": "19cbcc04-81a4-4c5a-91ba-56e1dc2a9dda"
      },
      "source": [
        "# Set figure size\n",
        "fig = plt.figure(figsize =(7, 5)) \n",
        "# Creating axes instance \n",
        "ax = fig.add_axes([0, 0, 1, 1])\n",
        "# Plot box pot\n",
        "plt.boxplot(data)\n",
        "ax.set_title('Box Plots of Clothing Color and Similarity Score')\n",
        "ax.set_xlabel('Clothing Color')\n",
        "ax.set_ylabel('Similarity Score')\n",
        "xticklabels=['Red', 'Blue', 'Black', 'White','Grey']\n",
        "ax.set_xticklabels(xticklabels)"
      ],
      "execution_count": null,
      "outputs": [
        {
          "output_type": "execute_result",
          "data": {
            "text/plain": [
              "[Text(0, 0, 'Red'),\n",
              " Text(0, 0, 'Blue'),\n",
              " Text(0, 0, 'Black'),\n",
              " Text(0, 0, 'White'),\n",
              " Text(0, 0, 'Grey')]"
            ]
          },
          "metadata": {
            "tags": []
          },
          "execution_count": 150
        },
        {
          "output_type": "display_data",
          "data": {
            "image/png": "[encoded data removed]",
            "text/plain": [
              "<Figure size 504x360 with 1 Axes>"
            ]
          },
          "metadata": {
            "tags": [],
            "needs_background": "light"
          }
        }
      ]
    },
    {
      "cell_type": "markdown",
      "metadata": {
        "id": "a5_D3fJuFReW"
      },
      "source": [
        "As shown above, when a person wears RED, AWS Rekognition will return the highest median similarity score. We recommend people to wear red if they are taking an ID photo. Among the 5 most common clothing colors, blue, black, red, white, and grey, red colored clothing does not impact AWS Rekognition's ability to detect faces that much.\n",
        "\n",
        "In contrast, when a person wears WHITE, AWS Rekognition will return the lowest median similarity score. We do not recommend people "
      ]
    },
    {
      "cell_type": "markdown",
      "metadata": {
        "id": "m0noiz8RJ22N"
      },
      "source": [
        "##**Clothing Color vs. Confidence Score**"
      ]
    },
    {
      "cell_type": "markdown",
      "metadata": {
        "id": "7G1uG4ga0_RH"
      },
      "source": [
        "Repeat the steps above. However, this time, we are focusing on the confidence scores"
      ]
    },
    {
      "cell_type": "code",
      "metadata": {
        "id": "sEmJQmDRJZNU"
      },
      "source": [
        "data_conf=list([df['Conf_Red'],df['Conf_Blue'],df['Conf_Black'],df['Conf_White'],df['Conf_Grey']])"
      ],
      "execution_count": null,
      "outputs": []
    },
    {
      "cell_type": "code",
      "metadata": {
        "id": "yV0h5sYkJo_n",
        "colab": {
          "base_uri": "https://localhost:8080/",
          "height": 523
        },
        "outputId": "ff4f35b9-388d-4fbb-9fb8-53e389d3915c"
      },
      "source": [
        "# Set figure size\n",
        "fig = plt.figure(figsize =(7, 5)) \n",
        "# Creating axes instance \n",
        "ax = fig.add_axes([0, 0, 1, 1])\n",
        "# Plot box pot\n",
        "plt.boxplot(data_conf)\n",
        "ax.set_title('Box Plots of Clothing Color and Confidence Score')\n",
        "ax.set_xlabel('Clothing Color')\n",
        "ax.set_ylabel('Confidence Score')\n",
        "xticklabels=['Red', 'Blue', 'Black', 'White','Grey']\n",
        "ax.set_xticklabels(xticklabels)"
      ],
      "execution_count": null,
      "outputs": [
        {
          "output_type": "execute_result",
          "data": {
            "text/plain": [
              "[Text(0, 0, 'Red'),\n",
              " Text(0, 0, 'Blue'),\n",
              " Text(0, 0, 'Black'),\n",
              " Text(0, 0, 'White'),\n",
              " Text(0, 0, 'Grey')]"
            ]
          },
          "metadata": {
            "tags": []
          },
          "execution_count": 152
        },
        {
          "output_type": "display_data",
          "data": {
            "image/png": "[encoded data removed]",
            "text/plain": [
              "<Figure size 504x360 with 1 Axes>"
            ]
          },
          "metadata": {
            "tags": [],
            "needs_background": "light"
          }
        }
      ]
    },
    {
      "cell_type": "markdown",
      "metadata": {
        "id": "bS6dujZlOzCf"
      },
      "source": [
        "As shown above, AWS Rekognition has the highest confidence score for RED and the lowest confidence score for WHITE. This finding is closely related to our finding when we compared the similarity scores of different clothing color. \n",
        "\n",
        "AWS Rekognition is most confident with facial detection when the person wears red, and it is least confidence with facial detection when the person wears white. "
      ]
    }
  ]
}